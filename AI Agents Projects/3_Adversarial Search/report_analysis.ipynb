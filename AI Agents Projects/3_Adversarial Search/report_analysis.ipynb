{
 "cells": [
  {
   "cell_type": "markdown",
   "metadata": {},
   "source": [
    "# Project #3"
   ]
  },
  {
   "cell_type": "markdown",
   "metadata": {},
   "source": [
    "The custom heuristic leveraged in this solution assigns utility values to different positions in the board per a pre-defined matrix(MAT, in the code). \n",
    "\n",
    "The algorithm used here invloves minimax,negamax(a minimax variant), iterative deepening and alpha-bet pruning.  "
   ]
  },
  {
   "cell_type": "code",
   "execution_count": 8,
   "metadata": {},
   "outputs": [
    {
     "data": {
      "text/html": [
       "<div>\n",
       "<style scoped>\n",
       "    .dataframe tbody tr th:only-of-type {\n",
       "        vertical-align: middle;\n",
       "    }\n",
       "\n",
       "    .dataframe tbody tr th {\n",
       "        vertical-align: top;\n",
       "    }\n",
       "\n",
       "    .dataframe thead th {\n",
       "        text-align: right;\n",
       "    }\n",
       "</style>\n",
       "<table border=\"1\" class=\"dataframe\">\n",
       "  <thead>\n",
       "    <tr style=\"text-align: right;\">\n",
       "      <th></th>\n",
       "      <th>Heuristic</th>\n",
       "      <th>Random</th>\n",
       "      <th>Greedy</th>\n",
       "      <th>Minimax</th>\n",
       "    </tr>\n",
       "  </thead>\n",
       "  <tbody>\n",
       "    <tr>\n",
       "      <th>0</th>\n",
       "      <td>MINIMAX ~ DEPTH 3</td>\n",
       "      <td>91.0</td>\n",
       "      <td>68.0</td>\n",
       "      <td>50.0</td>\n",
       "    </tr>\n",
       "    <tr>\n",
       "      <th>1</th>\n",
       "      <td>MINIMAX ~ DEPTH 3 with MAT</td>\n",
       "      <td>95.5</td>\n",
       "      <td>72.0</td>\n",
       "      <td>46.5</td>\n",
       "    </tr>\n",
       "    <tr>\n",
       "      <th>2</th>\n",
       "      <td>Minimax with ID</td>\n",
       "      <td>94.5</td>\n",
       "      <td>89.0</td>\n",
       "      <td>76.0</td>\n",
       "    </tr>\n",
       "    <tr>\n",
       "      <th>3</th>\n",
       "      <td>Minimax with ID and MAT</td>\n",
       "      <td>97.0</td>\n",
       "      <td>88.0</td>\n",
       "      <td>77.0</td>\n",
       "    </tr>\n",
       "    <tr>\n",
       "      <th>4</th>\n",
       "      <td>Minimax with ID and alpha-beta pruning</td>\n",
       "      <td>96.5</td>\n",
       "      <td>88.0</td>\n",
       "      <td>81.5</td>\n",
       "    </tr>\n",
       "    <tr>\n",
       "      <th>5</th>\n",
       "      <td>Minimax with MAT, ID and alpha-beta pruning</td>\n",
       "      <td>98.0</td>\n",
       "      <td>93.5</td>\n",
       "      <td>81.0</td>\n",
       "    </tr>\n",
       "  </tbody>\n",
       "</table>\n",
       "</div>"
      ],
      "text/plain": [
       "                                     Heuristic  Random  Greedy  Minimax\n",
       "0                            MINIMAX ~ DEPTH 3    91.0    68.0     50.0\n",
       "1                   MINIMAX ~ DEPTH 3 with MAT    95.5    72.0     46.5\n",
       "2                              Minimax with ID    94.5    89.0     76.0\n",
       "3                      Minimax with ID and MAT    97.0    88.0     77.0\n",
       "4       Minimax with ID and alpha-beta pruning    96.5    88.0     81.5\n",
       "5  Minimax with MAT, ID and alpha-beta pruning    98.0    93.5     81.0"
      ]
     },
     "execution_count": 8,
     "metadata": {},
     "output_type": "execute_result"
    }
   ],
   "source": [
    "import pandas as pd\n",
    "\n",
    "df = pd.DataFrame([\n",
    "                   [\"MINIMAX ~ DEPTH 3\",91.0,68.0,50.0],\n",
    "                   [\"MINIMAX ~ DEPTH 3 with MAT\",95.5,72.0,46.5],\n",
    "                   [\"Minimax with ID\",94.5,89.0,76.0],\n",
    "                   [\"Minimax with ID and MAT\",97,88,77],\n",
    "                   [\"Minimax with ID and alpha-beta pruning\",96.5,88.0,81.5],\n",
    "                   [\"Minimax with MAT, ID and alpha-beta pruning\",98.0,93.5,81.0]\n",
    "                    ], \n",
    "                  columns = [\"Heuristic\",\"Random\",\"Greedy\",\"Minimax\"])\n",
    "\n",
    "\n",
    "df"
   ]
  },
  {
   "cell_type": "markdown",
   "metadata": {},
   "source": [
    "### Advanced Heuristic"
   ]
  },
  {
   "cell_type": "markdown",
   "metadata": {},
   "source": [
    "#### What features of the game does your heuristic incorporate, and why do you think those features matter in evaluating states during search?"
   ]
  },
  {
   "cell_type": "markdown",
   "metadata": {},
   "source": [
    "The custom heuristic incorporates the feature that the centre of the board(for isolation) is a much safer position at the start of the game since it increases the likelihood of higher count of liberties for successive moves"
   ]
  },
  {
   "cell_type": "markdown",
   "metadata": {},
   "source": [
    "#### Analyze the search depth your agent achieves using your custom heuristic. Does search speed matter more or less than accuracy to the performance of your heuristic?"
   ]
  },
  {
   "cell_type": "markdown",
   "metadata": {},
   "source": [
    "There was no prominent impact on the search depth most likely because of the simplicity of the heuristic.Because of this the speed (defined by the quicker high depth searches) is more important for the performance than the accuracy of the evaluation function."
   ]
  }
 ],
 "metadata": {
  "kernelspec": {
   "display_name": "Python 3",
   "language": "python",
   "name": "python3"
  },
  "language_info": {
   "codemirror_mode": {
    "name": "ipython",
    "version": 3
   },
   "file_extension": ".py",
   "mimetype": "text/x-python",
   "name": "python",
   "nbconvert_exporter": "python",
   "pygments_lexer": "ipython3",
   "version": "3.6.4"
  }
 },
 "nbformat": 4,
 "nbformat_minor": 2
}
